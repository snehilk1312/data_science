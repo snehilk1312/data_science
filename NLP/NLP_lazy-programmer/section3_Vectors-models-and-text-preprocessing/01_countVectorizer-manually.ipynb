{
 "cells": [
  {
   "attachments": {},
   "cell_type": "markdown",
   "metadata": {},
   "source": [
    "## `sentences`"
   ]
  },
  {
   "cell_type": "code",
   "execution_count": 1,
   "metadata": {},
   "outputs": [],
   "source": [
    "sent1 = 'The name of my country is india'\n",
    "sent2 = 'India has 29 states and india has 8 union territories'\n",
    "sent3 = 'I live in Bengaluru in India'"
   ]
  },
  {
   "cell_type": "code",
   "execution_count": 2,
   "metadata": {},
   "outputs": [],
   "source": [
    "sent1,sent2,sent3 = sent1.lower(), sent2.lower(), sent3.lower()"
   ]
  },
  {
   "cell_type": "code",
   "execution_count": 3,
   "metadata": {},
   "outputs": [],
   "source": [
    "entire_corpus = sent1+' '+sent2+' '+sent3"
   ]
  },
  {
   "cell_type": "code",
   "execution_count": 4,
   "metadata": {},
   "outputs": [],
   "source": [
    "entire_corpus = sorted(set(entire_corpus.split()))"
   ]
  },
  {
   "cell_type": "code",
   "execution_count": 5,
   "metadata": {},
   "outputs": [
    {
     "data": {
      "text/plain": [
       "['29',\n",
       " '8',\n",
       " 'and',\n",
       " 'bengaluru',\n",
       " 'country',\n",
       " 'has',\n",
       " 'i',\n",
       " 'in',\n",
       " 'india',\n",
       " 'is',\n",
       " 'live',\n",
       " 'my',\n",
       " 'name',\n",
       " 'of',\n",
       " 'states',\n",
       " 'territories',\n",
       " 'the',\n",
       " 'union']"
      ]
     },
     "execution_count": 5,
     "metadata": {},
     "output_type": "execute_result"
    }
   ],
   "source": [
    "entire_corpus"
   ]
  },
  {
   "cell_type": "code",
   "execution_count": 6,
   "metadata": {},
   "outputs": [],
   "source": [
    "import numpy as np\n",
    "\n",
    "cv = np.zeros((3,len(entire_corpus)))"
   ]
  },
  {
   "cell_type": "code",
   "execution_count": 7,
   "metadata": {},
   "outputs": [],
   "source": [
    "sentences = [sent1,sent2,sent3]"
   ]
  },
  {
   "cell_type": "code",
   "execution_count": 8,
   "metadata": {},
   "outputs": [],
   "source": [
    "sentences_count = []\n",
    "for i in sentences:\n",
    "    count_dict = {}\n",
    "    temp = i.split()\n",
    "    for j in temp:\n",
    "        if j not in count_dict.keys():\n",
    "            count_dict[j]=1\n",
    "        else:\n",
    "            count_dict[j]+=1\n",
    "    sentences_count.append(count_dict)"
   ]
  },
  {
   "cell_type": "code",
   "execution_count": 9,
   "metadata": {},
   "outputs": [
    {
     "data": {
      "text/plain": [
       "[{'the': 1, 'name': 1, 'of': 1, 'my': 1, 'country': 1, 'is': 1, 'india': 1},\n",
       " {'india': 2,\n",
       "  'has': 2,\n",
       "  '29': 1,\n",
       "  'states': 1,\n",
       "  'and': 1,\n",
       "  '8': 1,\n",
       "  'union': 1,\n",
       "  'territories': 1},\n",
       " {'i': 1, 'live': 1, 'in': 2, 'bengaluru': 1, 'india': 1}]"
      ]
     },
     "execution_count": 9,
     "metadata": {},
     "output_type": "execute_result"
    }
   ],
   "source": [
    "sentences_count"
   ]
  },
  {
   "attachments": {},
   "cell_type": "markdown",
   "metadata": {},
   "source": [
    "## `Count Vectorizer`"
   ]
  },
  {
   "cell_type": "code",
   "execution_count": 10,
   "metadata": {},
   "outputs": [],
   "source": [
    "for i in range(len(sentences_count)):\n",
    "    for j in range(len(entire_corpus)):\n",
    "        if entire_corpus[j] in sentences_count[i].keys():\n",
    "            cv[i,j] = sentences_count[i][entire_corpus[j]]\n",
    "        else:\n",
    "            pass\n",
    "    "
   ]
  },
  {
   "cell_type": "code",
   "execution_count": 11,
   "metadata": {},
   "outputs": [
    {
     "data": {
      "text/plain": [
       "array([[0., 0., 0., 0., 1., 0., 0., 0., 1., 1., 0., 1., 1., 1., 0., 0.,\n",
       "        1., 0.],\n",
       "       [1., 1., 1., 0., 0., 2., 0., 0., 2., 0., 0., 0., 0., 0., 1., 1.,\n",
       "        0., 1.],\n",
       "       [0., 0., 0., 1., 0., 0., 1., 2., 1., 0., 1., 0., 0., 0., 0., 0.,\n",
       "        0., 0.]])"
      ]
     },
     "execution_count": 11,
     "metadata": {},
     "output_type": "execute_result"
    }
   ],
   "source": [
    "cv"
   ]
  },
  {
   "cell_type": "code",
   "execution_count": null,
   "metadata": {},
   "outputs": [],
   "source": []
  }
 ],
 "metadata": {
  "kernelspec": {
   "display_name": ".dev_env",
   "language": "python",
   "name": "python3"
  },
  "language_info": {
   "codemirror_mode": {
    "name": "ipython",
    "version": 3
   },
   "file_extension": ".py",
   "mimetype": "text/x-python",
   "name": "python",
   "nbconvert_exporter": "python",
   "pygments_lexer": "ipython3",
   "version": "3.10.12"
  },
  "orig_nbformat": 4
 },
 "nbformat": 4,
 "nbformat_minor": 2
}
