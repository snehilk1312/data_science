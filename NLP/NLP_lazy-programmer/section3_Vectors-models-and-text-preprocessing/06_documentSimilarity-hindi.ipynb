{
 "cells": [
  {
   "cell_type": "code",
   "execution_count": 1,
   "metadata": {},
   "outputs": [],
   "source": [
    "import pandas as pd\n",
    "import string"
   ]
  },
  {
   "cell_type": "markdown",
   "metadata": {},
   "source": [
    "### loading data"
   ]
  },
  {
   "cell_type": "code",
   "execution_count": 2,
   "metadata": {},
   "outputs": [],
   "source": [
    "with open('/home/snehil/work/DataVault/02_lazy_programmer_nlp/news.2012.hi.shuffled.deduped','r',encoding=\"utf-8\") as f:\n",
    "    lines = f.readlines()"
   ]
  },
  {
   "cell_type": "code",
   "execution_count": 3,
   "metadata": {},
   "outputs": [],
   "source": [
    "lines = [i[:-1] for i in lines]"
   ]
  },
  {
   "cell_type": "code",
   "execution_count": 4,
   "metadata": {},
   "outputs": [
    {
     "data": {
      "text/plain": [
       "['उनका कहना था, \" विदेशों में बहुत काला धन पड़ा है. ये वापस आना चाहिए और आगे ऐसा न हो इसके लिए आगे मजबूत लोकपाल की ज़रुरत है. प्रधानमंत्री बार बार कहते हैं कि वो ईमानदार हैं लेकिन उन्हें अपनी लोकतांत्रिक और संवैधानिक जिम्मेदारी निभानी चाहिए. उन्हें अपने कैबिनेट को भी ईमानदार करना चाहिए.\"',\n",
       " 'इस सवाल पर कि केंद्र में उनकी सरकार है और वे इस क़ानून को बदलने का प्रयास क्यों नहीं करते, उन्होंने कहा कि ये आसान नहीं है लेकिन वे प्रयास करते रहे हैं.',\n",
       " 'मज़बूत युआन',\n",
       " 'अमरीकी कमांडर एडमिरल रोबर्ट विलर्ड ने कहा है कि इन विशेष सैन्य दलों को अमरीकी पैसिफिक कमांड ने चरमपंथ विरोधी गतिविधियों खासतौर पर समुद्री सुरक्षा के लिए तैनात किया है.',\n",
       " 'ब्रिटेन सरकार का इरादा इनकार करने का नहीं है और वे केवल ये सुनिश्चित करना चाहते हैं कि हासिल की गई शिक्षा का इस्तेमाल काम के लिए हो रहा है कि नहीं']"
      ]
     },
     "execution_count": 4,
     "metadata": {},
     "output_type": "execute_result"
    }
   ],
   "source": [
    "lines[:5]"
   ]
  },
  {
   "cell_type": "code",
   "execution_count": 5,
   "metadata": {},
   "outputs": [],
   "source": [
    "df = pd.DataFrame({'text':lines})"
   ]
  },
  {
   "cell_type": "code",
   "execution_count": 6,
   "metadata": {},
   "outputs": [
    {
     "data": {
      "text/html": [
       "<div>\n",
       "<style scoped>\n",
       "    .dataframe tbody tr th:only-of-type {\n",
       "        vertical-align: middle;\n",
       "    }\n",
       "\n",
       "    .dataframe tbody tr th {\n",
       "        vertical-align: top;\n",
       "    }\n",
       "\n",
       "    .dataframe thead th {\n",
       "        text-align: right;\n",
       "    }\n",
       "</style>\n",
       "<table border=\"1\" class=\"dataframe\">\n",
       "  <thead>\n",
       "    <tr style=\"text-align: right;\">\n",
       "      <th></th>\n",
       "      <th>text</th>\n",
       "    </tr>\n",
       "  </thead>\n",
       "  <tbody>\n",
       "    <tr>\n",
       "      <th>0</th>\n",
       "      <td>उनका कहना था, \" विदेशों में बहुत काला धन पड़ा ...</td>\n",
       "    </tr>\n",
       "    <tr>\n",
       "      <th>1</th>\n",
       "      <td>इस सवाल पर कि केंद्र में उनकी सरकार है और वे इ...</td>\n",
       "    </tr>\n",
       "    <tr>\n",
       "      <th>2</th>\n",
       "      <td>मज़बूत युआन</td>\n",
       "    </tr>\n",
       "    <tr>\n",
       "      <th>3</th>\n",
       "      <td>अमरीकी कमांडर एडमिरल रोबर्ट विलर्ड ने कहा है क...</td>\n",
       "    </tr>\n",
       "    <tr>\n",
       "      <th>4</th>\n",
       "      <td>ब्रिटेन सरकार का इरादा इनकार करने का नहीं है औ...</td>\n",
       "    </tr>\n",
       "    <tr>\n",
       "      <th>...</th>\n",
       "      <td>...</td>\n",
       "    </tr>\n",
       "    <tr>\n",
       "      <th>133259</th>\n",
       "      <td>ग़ौरतलब है कि अरब लीग के 156 से ज़्यादा पर्यवे...</td>\n",
       "    </tr>\n",
       "    <tr>\n",
       "      <th>133260</th>\n",
       "      <td>वहीं शिन्हुआ के विश्लेषण में कहा गया है कि आर्...</td>\n",
       "    </tr>\n",
       "    <tr>\n",
       "      <th>133261</th>\n",
       "      <td>कौल के अनुसार, \"जब कंपनी के पास पैसे न हों और ...</td>\n",
       "    </tr>\n",
       "    <tr>\n",
       "      <th>133262</th>\n",
       "      <td>\"डिपार्टमेंट\" के संगीत एलबम में कुल दस ट्रैक्स...</td>\n",
       "    </tr>\n",
       "    <tr>\n",
       "      <th>133263</th>\n",
       "      <td>हालांकि कोहली के अबतक के अंतरराष्ट्रीय करियर व...</td>\n",
       "    </tr>\n",
       "  </tbody>\n",
       "</table>\n",
       "<p>133264 rows × 1 columns</p>\n",
       "</div>"
      ],
      "text/plain": [
       "                                                     text\n",
       "0       उनका कहना था, \" विदेशों में बहुत काला धन पड़ा ...\n",
       "1       इस सवाल पर कि केंद्र में उनकी सरकार है और वे इ...\n",
       "2                                             मज़बूत युआन\n",
       "3       अमरीकी कमांडर एडमिरल रोबर्ट विलर्ड ने कहा है क...\n",
       "4       ब्रिटेन सरकार का इरादा इनकार करने का नहीं है औ...\n",
       "...                                                   ...\n",
       "133259  ग़ौरतलब है कि अरब लीग के 156 से ज़्यादा पर्यवे...\n",
       "133260  वहीं शिन्हुआ के विश्लेषण में कहा गया है कि आर्...\n",
       "133261  कौल के अनुसार, \"जब कंपनी के पास पैसे न हों और ...\n",
       "133262  \"डिपार्टमेंट\" के संगीत एलबम में कुल दस ट्रैक्स...\n",
       "133263  हालांकि कोहली के अबतक के अंतरराष्ट्रीय करियर व...\n",
       "\n",
       "[133264 rows x 1 columns]"
      ]
     },
     "execution_count": 6,
     "metadata": {},
     "output_type": "execute_result"
    }
   ],
   "source": [
    "df"
   ]
  },
  {
   "cell_type": "markdown",
   "metadata": {},
   "source": [
    "### using ai4bharat+others indic-nlp"
   ]
  },
  {
   "cell_type": "code",
   "execution_count": 13,
   "metadata": {},
   "outputs": [],
   "source": [
    "# !pip install indic-nlp-library"
   ]
  },
  {
   "cell_type": "code",
   "execution_count": null,
   "metadata": {},
   "outputs": [],
   "source": [
    "# tokenize\n",
    "from indicnlp.tokenize import indic_tokenize  \n",
    "df['text_tokenize'] = df.text.apply(lambda x:indic_tokenize.trivial_tokenize(x))"
   ]
  },
  {
   "cell_type": "code",
   "execution_count": 8,
   "metadata": {},
   "outputs": [
    {
     "data": {
      "text/html": [
       "<div>\n",
       "<style scoped>\n",
       "    .dataframe tbody tr th:only-of-type {\n",
       "        vertical-align: middle;\n",
       "    }\n",
       "\n",
       "    .dataframe tbody tr th {\n",
       "        vertical-align: top;\n",
       "    }\n",
       "\n",
       "    .dataframe thead th {\n",
       "        text-align: right;\n",
       "    }\n",
       "</style>\n",
       "<table border=\"1\" class=\"dataframe\">\n",
       "  <thead>\n",
       "    <tr style=\"text-align: right;\">\n",
       "      <th></th>\n",
       "      <th>text</th>\n",
       "      <th>text_tokenize</th>\n",
       "    </tr>\n",
       "  </thead>\n",
       "  <tbody>\n",
       "    <tr>\n",
       "      <th>0</th>\n",
       "      <td>उनका कहना था, \" विदेशों में बहुत काला धन पड़ा ...</td>\n",
       "      <td>[उनका, कहना, था, ,, \", विदेशों, में, बहुत, काल...</td>\n",
       "    </tr>\n",
       "    <tr>\n",
       "      <th>1</th>\n",
       "      <td>इस सवाल पर कि केंद्र में उनकी सरकार है और वे इ...</td>\n",
       "      <td>[इस, सवाल, पर, कि, केंद्र, में, उनकी, सरकार, ह...</td>\n",
       "    </tr>\n",
       "    <tr>\n",
       "      <th>2</th>\n",
       "      <td>मज़बूत युआन</td>\n",
       "      <td>[मज़बूत, युआन]</td>\n",
       "    </tr>\n",
       "    <tr>\n",
       "      <th>3</th>\n",
       "      <td>अमरीकी कमांडर एडमिरल रोबर्ट विलर्ड ने कहा है क...</td>\n",
       "      <td>[अमरीकी, कमांडर, एडमिरल, रोबर्ट, विलर्ड, ने, क...</td>\n",
       "    </tr>\n",
       "    <tr>\n",
       "      <th>4</th>\n",
       "      <td>ब्रिटेन सरकार का इरादा इनकार करने का नहीं है औ...</td>\n",
       "      <td>[ब्रिटेन, सरकार, का, इरादा, इनकार, करने, का, न...</td>\n",
       "    </tr>\n",
       "    <tr>\n",
       "      <th>...</th>\n",
       "      <td>...</td>\n",
       "      <td>...</td>\n",
       "    </tr>\n",
       "    <tr>\n",
       "      <th>133259</th>\n",
       "      <td>ग़ौरतलब है कि अरब लीग के 156 से ज़्यादा पर्यवे...</td>\n",
       "      <td>[ग़ौरतलब, है, कि, अरब, लीग, के, 156, से, ज़्या...</td>\n",
       "    </tr>\n",
       "    <tr>\n",
       "      <th>133260</th>\n",
       "      <td>वहीं शिन्हुआ के विश्लेषण में कहा गया है कि आर्...</td>\n",
       "      <td>[वहीं, शिन्हुआ, के, विश्लेषण, में, कहा, गया, ह...</td>\n",
       "    </tr>\n",
       "    <tr>\n",
       "      <th>133261</th>\n",
       "      <td>कौल के अनुसार, \"जब कंपनी के पास पैसे न हों और ...</td>\n",
       "      <td>[कौल, के, अनुसार, ,, \", जब, कंपनी, के, पास, पै...</td>\n",
       "    </tr>\n",
       "    <tr>\n",
       "      <th>133262</th>\n",
       "      <td>\"डिपार्टमेंट\" के संगीत एलबम में कुल दस ट्रैक्स...</td>\n",
       "      <td>[\", डिपार्टमेंट, \", के, संगीत, एलबम, में, कुल,...</td>\n",
       "    </tr>\n",
       "    <tr>\n",
       "      <th>133263</th>\n",
       "      <td>हालांकि कोहली के अबतक के अंतरराष्ट्रीय करियर व...</td>\n",
       "      <td>[हालांकि, कोहली, के, अबतक, के, अंतरराष्ट्रीय, ...</td>\n",
       "    </tr>\n",
       "  </tbody>\n",
       "</table>\n",
       "<p>133264 rows × 2 columns</p>\n",
       "</div>"
      ],
      "text/plain": [
       "                                                     text  \\\n",
       "0       उनका कहना था, \" विदेशों में बहुत काला धन पड़ा ...   \n",
       "1       इस सवाल पर कि केंद्र में उनकी सरकार है और वे इ...   \n",
       "2                                             मज़बूत युआन   \n",
       "3       अमरीकी कमांडर एडमिरल रोबर्ट विलर्ड ने कहा है क...   \n",
       "4       ब्रिटेन सरकार का इरादा इनकार करने का नहीं है औ...   \n",
       "...                                                   ...   \n",
       "133259  ग़ौरतलब है कि अरब लीग के 156 से ज़्यादा पर्यवे...   \n",
       "133260  वहीं शिन्हुआ के विश्लेषण में कहा गया है कि आर्...   \n",
       "133261  कौल के अनुसार, \"जब कंपनी के पास पैसे न हों और ...   \n",
       "133262  \"डिपार्टमेंट\" के संगीत एलबम में कुल दस ट्रैक्स...   \n",
       "133263  हालांकि कोहली के अबतक के अंतरराष्ट्रीय करियर व...   \n",
       "\n",
       "                                            text_tokenize  \n",
       "0       [उनका, कहना, था, ,, \", विदेशों, में, बहुत, काल...  \n",
       "1       [इस, सवाल, पर, कि, केंद्र, में, उनकी, सरकार, ह...  \n",
       "2                                          [मज़बूत, युआन]  \n",
       "3       [अमरीकी, कमांडर, एडमिरल, रोबर्ट, विलर्ड, ने, क...  \n",
       "4       [ब्रिटेन, सरकार, का, इरादा, इनकार, करने, का, न...  \n",
       "...                                                   ...  \n",
       "133259  [ग़ौरतलब, है, कि, अरब, लीग, के, 156, से, ज़्या...  \n",
       "133260  [वहीं, शिन्हुआ, के, विश्लेषण, में, कहा, गया, ह...  \n",
       "133261  [कौल, के, अनुसार, ,, \", जब, कंपनी, के, पास, पै...  \n",
       "133262  [\", डिपार्टमेंट, \", के, संगीत, एलबम, में, कुल,...  \n",
       "133263  [हालांकि, कोहली, के, अबतक, के, अंतरराष्ट्रीय, ...  \n",
       "\n",
       "[133264 rows x 2 columns]"
      ]
     },
     "execution_count": 8,
     "metadata": {},
     "output_type": "execute_result"
    }
   ],
   "source": [
    "df"
   ]
  },
  {
   "cell_type": "code",
   "execution_count": 9,
   "metadata": {},
   "outputs": [
    {
     "data": {
      "text/plain": [
       "['उनका', 'कहना', 'था', ',', '\"']"
      ]
     },
     "execution_count": 9,
     "metadata": {},
     "output_type": "execute_result"
    }
   ],
   "source": [
    "df.loc[0,\"text_tokenize\"][:5]"
   ]
  },
  {
   "cell_type": "code",
   "execution_count": 12,
   "metadata": {},
   "outputs": [
    {
     "name": "stdout",
     "output_type": "stream",
     "text": [
      "!\"#$%&'()*+,-./:;<=>?@[\\]^_`{|}~\n"
     ]
    }
   ],
   "source": [
    "# remove punctuation\n",
    "print(string.punctuation)"
   ]
  },
  {
   "cell_type": "code",
   "execution_count": 13,
   "metadata": {},
   "outputs": [],
   "source": [
    "def remove_stopwords(sent):\n",
    "    sent = [i for i in sent if i  not in string.punctuation]\n",
    "    return sent\n",
    "\n",
    "df.text_tokenize = df.text_tokenize.apply(remove_stopwords)"
   ]
  },
  {
   "cell_type": "code",
   "execution_count": 14,
   "metadata": {},
   "outputs": [
    {
     "data": {
      "text/html": [
       "<div>\n",
       "<style scoped>\n",
       "    .dataframe tbody tr th:only-of-type {\n",
       "        vertical-align: middle;\n",
       "    }\n",
       "\n",
       "    .dataframe tbody tr th {\n",
       "        vertical-align: top;\n",
       "    }\n",
       "\n",
       "    .dataframe thead th {\n",
       "        text-align: right;\n",
       "    }\n",
       "</style>\n",
       "<table border=\"1\" class=\"dataframe\">\n",
       "  <thead>\n",
       "    <tr style=\"text-align: right;\">\n",
       "      <th></th>\n",
       "      <th>text</th>\n",
       "      <th>text_tokenize</th>\n",
       "    </tr>\n",
       "  </thead>\n",
       "  <tbody>\n",
       "    <tr>\n",
       "      <th>0</th>\n",
       "      <td>उनका कहना था, \" विदेशों में बहुत काला धन पड़ा ...</td>\n",
       "      <td>[उनका, कहना, था, विदेशों, में, बहुत, काला, धन,...</td>\n",
       "    </tr>\n",
       "    <tr>\n",
       "      <th>1</th>\n",
       "      <td>इस सवाल पर कि केंद्र में उनकी सरकार है और वे इ...</td>\n",
       "      <td>[इस, सवाल, पर, कि, केंद्र, में, उनकी, सरकार, ह...</td>\n",
       "    </tr>\n",
       "    <tr>\n",
       "      <th>2</th>\n",
       "      <td>मज़बूत युआन</td>\n",
       "      <td>[मज़बूत, युआन]</td>\n",
       "    </tr>\n",
       "    <tr>\n",
       "      <th>3</th>\n",
       "      <td>अमरीकी कमांडर एडमिरल रोबर्ट विलर्ड ने कहा है क...</td>\n",
       "      <td>[अमरीकी, कमांडर, एडमिरल, रोबर्ट, विलर्ड, ने, क...</td>\n",
       "    </tr>\n",
       "    <tr>\n",
       "      <th>4</th>\n",
       "      <td>ब्रिटेन सरकार का इरादा इनकार करने का नहीं है औ...</td>\n",
       "      <td>[ब्रिटेन, सरकार, का, इरादा, इनकार, करने, का, न...</td>\n",
       "    </tr>\n",
       "    <tr>\n",
       "      <th>...</th>\n",
       "      <td>...</td>\n",
       "      <td>...</td>\n",
       "    </tr>\n",
       "    <tr>\n",
       "      <th>133259</th>\n",
       "      <td>ग़ौरतलब है कि अरब लीग के 156 से ज़्यादा पर्यवे...</td>\n",
       "      <td>[ग़ौरतलब, है, कि, अरब, लीग, के, 156, से, ज़्या...</td>\n",
       "    </tr>\n",
       "    <tr>\n",
       "      <th>133260</th>\n",
       "      <td>वहीं शिन्हुआ के विश्लेषण में कहा गया है कि आर्...</td>\n",
       "      <td>[वहीं, शिन्हुआ, के, विश्लेषण, में, कहा, गया, ह...</td>\n",
       "    </tr>\n",
       "    <tr>\n",
       "      <th>133261</th>\n",
       "      <td>कौल के अनुसार, \"जब कंपनी के पास पैसे न हों और ...</td>\n",
       "      <td>[कौल, के, अनुसार, जब, कंपनी, के, पास, पैसे, न,...</td>\n",
       "    </tr>\n",
       "    <tr>\n",
       "      <th>133262</th>\n",
       "      <td>\"डिपार्टमेंट\" के संगीत एलबम में कुल दस ट्रैक्स...</td>\n",
       "      <td>[डिपार्टमेंट, के, संगीत, एलबम, में, कुल, दस, ट...</td>\n",
       "    </tr>\n",
       "    <tr>\n",
       "      <th>133263</th>\n",
       "      <td>हालांकि कोहली के अबतक के अंतरराष्ट्रीय करियर व...</td>\n",
       "      <td>[हालांकि, कोहली, के, अबतक, के, अंतरराष्ट्रीय, ...</td>\n",
       "    </tr>\n",
       "  </tbody>\n",
       "</table>\n",
       "<p>133264 rows × 2 columns</p>\n",
       "</div>"
      ],
      "text/plain": [
       "                                                     text  \\\n",
       "0       उनका कहना था, \" विदेशों में बहुत काला धन पड़ा ...   \n",
       "1       इस सवाल पर कि केंद्र में उनकी सरकार है और वे इ...   \n",
       "2                                             मज़बूत युआन   \n",
       "3       अमरीकी कमांडर एडमिरल रोबर्ट विलर्ड ने कहा है क...   \n",
       "4       ब्रिटेन सरकार का इरादा इनकार करने का नहीं है औ...   \n",
       "...                                                   ...   \n",
       "133259  ग़ौरतलब है कि अरब लीग के 156 से ज़्यादा पर्यवे...   \n",
       "133260  वहीं शिन्हुआ के विश्लेषण में कहा गया है कि आर्...   \n",
       "133261  कौल के अनुसार, \"जब कंपनी के पास पैसे न हों और ...   \n",
       "133262  \"डिपार्टमेंट\" के संगीत एलबम में कुल दस ट्रैक्स...   \n",
       "133263  हालांकि कोहली के अबतक के अंतरराष्ट्रीय करियर व...   \n",
       "\n",
       "                                            text_tokenize  \n",
       "0       [उनका, कहना, था, विदेशों, में, बहुत, काला, धन,...  \n",
       "1       [इस, सवाल, पर, कि, केंद्र, में, उनकी, सरकार, ह...  \n",
       "2                                          [मज़बूत, युआन]  \n",
       "3       [अमरीकी, कमांडर, एडमिरल, रोबर्ट, विलर्ड, ने, क...  \n",
       "4       [ब्रिटेन, सरकार, का, इरादा, इनकार, करने, का, न...  \n",
       "...                                                   ...  \n",
       "133259  [ग़ौरतलब, है, कि, अरब, लीग, के, 156, से, ज़्या...  \n",
       "133260  [वहीं, शिन्हुआ, के, विश्लेषण, में, कहा, गया, ह...  \n",
       "133261  [कौल, के, अनुसार, जब, कंपनी, के, पास, पैसे, न,...  \n",
       "133262  [डिपार्टमेंट, के, संगीत, एलबम, में, कुल, दस, ट...  \n",
       "133263  [हालांकि, कोहली, के, अबतक, के, अंतरराष्ट्रीय, ...  \n",
       "\n",
       "[133264 rows x 2 columns]"
      ]
     },
     "execution_count": 14,
     "metadata": {},
     "output_type": "execute_result"
    }
   ],
   "source": [
    "df"
   ]
  },
  {
   "cell_type": "code",
   "execution_count": 15,
   "metadata": {},
   "outputs": [],
   "source": [
    "# doing some language specific normalization\n",
    "from indicnlp.normalize.indic_normalize import IndicNormalizerFactory\n",
    "factory=IndicNormalizerFactory()\n",
    "normalizer=factory.get_normalizer(\"hi\",remove_nuktas=True,do_normalize_chandras=True)"
   ]
  },
  {
   "cell_type": "code",
   "execution_count": 16,
   "metadata": {},
   "outputs": [],
   "source": [
    "df['text_tokenize_normalize'] = df.text_tokenize.apply(lambda x:normalizer.normalize(' '.join(x)))\n",
    "df['text_tokenize_normalize'] = df.text_tokenize_normalize.apply(lambda x:indic_tokenize.trivial_tokenize(x))"
   ]
  },
  {
   "cell_type": "code",
   "execution_count": 19,
   "metadata": {},
   "outputs": [],
   "source": [
    "# more stopwords\n",
    "with open('/home/snehil/work/DataVault/03_indic_nlp/bsr3frvvjc-1/final_stopwords.txt','r',encoding='utf-8') as f:\n",
    "    lines = f.readlines()"
   ]
  },
  {
   "cell_type": "code",
   "execution_count": 20,
   "metadata": {},
   "outputs": [],
   "source": [
    "lines = [i[:-1] for i in lines]"
   ]
  },
  {
   "cell_type": "code",
   "execution_count": 21,
   "metadata": {},
   "outputs": [],
   "source": [
    "lines = [normalizer.normalize(i) for i in lines]"
   ]
  },
  {
   "cell_type": "code",
   "execution_count": 22,
   "metadata": {},
   "outputs": [
    {
     "data": {
      "text/plain": [
       "['मैं',\n",
       " 'मुझको',\n",
       " 'मेरा',\n",
       " 'अपने आप को',\n",
       " 'हमने',\n",
       " 'हमारा',\n",
       " 'अपना',\n",
       " 'हम',\n",
       " 'आप',\n",
       " 'आपका',\n",
       " 'तुम्हारा',\n",
       " 'अपने आप',\n",
       " 'स्वयं',\n",
       " 'वह',\n",
       " 'इसे',\n",
       " 'उसके',\n",
       " 'खुद को',\n",
       " 'कि वह',\n",
       " 'उसकी',\n",
       " 'उसका',\n",
       " 'खुद ही',\n",
       " 'यह',\n",
       " 'इसके',\n",
       " 'उन्होने',\n",
       " 'अपने',\n",
       " 'क्या',\n",
       " 'जो',\n",
       " 'किसे',\n",
       " 'किसको',\n",
       " 'कि',\n",
       " 'ये',\n",
       " 'हूं',\n",
       " 'होता है',\n",
       " 'रहे',\n",
       " 'थी',\n",
       " 'थे',\n",
       " 'होना',\n",
       " 'गया',\n",
       " 'किया जा रहा है',\n",
       " 'किया है',\n",
       " 'है',\n",
       " 'पडा',\n",
       " 'होने',\n",
       " 'करना',\n",
       " 'करता है',\n",
       " 'किया',\n",
       " 'रही',\n",
       " 'एक',\n",
       " 'लेकिन',\n",
       " 'अगर',\n",
       " 'या',\n",
       " 'क्यूंकि',\n",
       " 'जैसा',\n",
       " 'जब तक',\n",
       " 'जबकि',\n",
       " 'की',\n",
       " 'पर',\n",
       " 'द्वारा',\n",
       " 'के लिए',\n",
       " 'साथ',\n",
       " 'के बारे में',\n",
       " 'खिलाफ',\n",
       " 'बीच',\n",
       " 'में',\n",
       " 'के माध्यम से',\n",
       " 'दौरान',\n",
       " 'से पहले',\n",
       " 'के बाद',\n",
       " 'ऊपर',\n",
       " 'नीचे',\n",
       " 'को',\n",
       " 'से',\n",
       " 'तक',\n",
       " 'से नीचे',\n",
       " 'करने में',\n",
       " 'निकल',\n",
       " 'बंद',\n",
       " 'से अधिक',\n",
       " 'तहत',\n",
       " 'दुबारा',\n",
       " 'आगे',\n",
       " 'फिर',\n",
       " 'एक बार',\n",
       " 'यहां',\n",
       " 'वहां',\n",
       " 'कब',\n",
       " 'कहां',\n",
       " 'क्यों',\n",
       " 'कैसे',\n",
       " 'सारे',\n",
       " 'किसी',\n",
       " 'दोनो',\n",
       " 'प्रत्येक',\n",
       " 'ज्यादा',\n",
       " 'अधिकांश',\n",
       " 'अन्य',\n",
       " 'में कुछ',\n",
       " 'ऐसा',\n",
       " 'में कोई',\n",
       " 'मात्र',\n",
       " 'खुद',\n",
       " 'समान',\n",
       " 'इसलिए',\n",
       " 'बहुत',\n",
       " 'सकता',\n",
       " 'जायेंगे',\n",
       " 'जरा',\n",
       " 'चाहिए',\n",
       " 'अभी',\n",
       " 'और',\n",
       " 'कर दिया',\n",
       " 'रखें',\n",
       " 'का',\n",
       " 'हैं',\n",
       " 'इस',\n",
       " 'होता',\n",
       " 'करने',\n",
       " 'ने',\n",
       " 'बनी',\n",
       " 'तो',\n",
       " 'ही',\n",
       " 'हो',\n",
       " 'इसका',\n",
       " 'था',\n",
       " 'हुआ',\n",
       " 'वाले',\n",
       " 'बाद',\n",
       " 'लिए',\n",
       " 'सकते',\n",
       " 'इसमें',\n",
       " 'दो',\n",
       " 'वे',\n",
       " 'करते',\n",
       " 'कहा',\n",
       " 'वर्ग',\n",
       " 'कई',\n",
       " 'करें',\n",
       " 'होती',\n",
       " 'अपनी',\n",
       " 'उनके',\n",
       " 'यदि',\n",
       " 'हुई',\n",
       " 'जा',\n",
       " 'कहते',\n",
       " 'जब',\n",
       " 'होते',\n",
       " 'कोई',\n",
       " 'हुए',\n",
       " 'व',\n",
       " 'जैसे',\n",
       " 'सभी',\n",
       " 'करता',\n",
       " 'उनकी',\n",
       " 'तरह',\n",
       " 'उस',\n",
       " 'आदि',\n",
       " 'इसकी',\n",
       " 'उनका',\n",
       " 'इसी',\n",
       " 'पे',\n",
       " 'तथा',\n",
       " 'भी',\n",
       " 'परंतु',\n",
       " 'इन',\n",
       " 'कम',\n",
       " 'दूर',\n",
       " 'पूरे',\n",
       " 'गये',\n",
       " 'तुम',\n",
       " 'मै',\n",
       " 'यहां',\n",
       " 'हुये',\n",
       " 'कभी',\n",
       " 'अथवा',\n",
       " 'गयी',\n",
       " 'प्रति',\n",
       " 'जाता',\n",
       " 'इन्हें',\n",
       " 'गई',\n",
       " 'अब',\n",
       " 'जिसमें',\n",
       " 'लिया',\n",
       " 'बडा',\n",
       " 'जाती',\n",
       " 'तब',\n",
       " 'उसे',\n",
       " 'जाते',\n",
       " 'लेकर',\n",
       " 'बडे',\n",
       " 'दूसरे',\n",
       " 'जाने',\n",
       " 'बाहर',\n",
       " 'स्थान',\n",
       " 'उन्हें ',\n",
       " 'गए',\n",
       " 'ऐसे',\n",
       " 'जिससे',\n",
       " 'समय',\n",
       " 'दोनों',\n",
       " 'किए',\n",
       " 'रहती',\n",
       " 'इनके',\n",
       " 'इनका',\n",
       " 'इनकी',\n",
       " 'सकती',\n",
       " 'आज',\n",
       " 'कल',\n",
       " 'जिन्हें',\n",
       " 'जिन्हों',\n",
       " 'तिन्हें',\n",
       " 'तिन्हों',\n",
       " 'किन्हों',\n",
       " 'किन्हें',\n",
       " 'इत्यादि',\n",
       " 'इन्हों',\n",
       " 'उन्हों',\n",
       " 'बिलकुल',\n",
       " 'निहायत',\n",
       " 'इन्हीं',\n",
       " 'उन्हीं',\n",
       " 'जितना',\n",
       " 'दूसरा',\n",
       " 'कितना',\n",
       " 'साबुत',\n",
       " 'वगैरह',\n",
       " 'कौनसा',\n",
       " 'लिये',\n",
       " 'दिया',\n",
       " 'जिसे',\n",
       " 'तिसे',\n",
       " 'काफी',\n",
       " 'पहले',\n",
       " 'बाला',\n",
       " 'मानो',\n",
       " 'अंदर',\n",
       " 'भीतर',\n",
       " 'पूरा',\n",
       " 'सारा',\n",
       " 'उनको',\n",
       " 'वहीं',\n",
       " 'जहां',\n",
       " 'जीधर',\n",
       " 'के',\n",
       " 'एवं',\n",
       " 'कुछ',\n",
       " 'कुल',\n",
       " 'रहा',\n",
       " 'जिस',\n",
       " 'जिन',\n",
       " 'तिस',\n",
       " 'तिन',\n",
       " 'कौन',\n",
       " 'किस',\n",
       " 'संग',\n",
       " 'यही',\n",
       " 'बही',\n",
       " 'उसी',\n",
       " 'मगर',\n",
       " 'कर',\n",
       " 'मे',\n",
       " 'एस',\n",
       " 'उन',\n",
       " 'सो',\n",
       " 'अत']"
      ]
     },
     "execution_count": 22,
     "metadata": {},
     "output_type": "execute_result"
    }
   ],
   "source": [
    "lines"
   ]
  },
  {
   "cell_type": "code",
   "execution_count": 23,
   "metadata": {},
   "outputs": [],
   "source": [
    "df.text_tokenize = df.text_tokenize.apply(lambda x:' '.join(x))\n",
    "df.text_tokenize_normalize = df.text_tokenize_normalize.apply(lambda x:' '.join(x))"
   ]
  },
  {
   "cell_type": "code",
   "execution_count": 24,
   "metadata": {},
   "outputs": [],
   "source": [
    "from sklearn.feature_extraction.text import TfidfVectorizer\n",
    "tfidf = TfidfVectorizer(stop_words=lines)"
   ]
  },
  {
   "cell_type": "code",
   "execution_count": 25,
   "metadata": {},
   "outputs": [
    {
     "name": "stderr",
     "output_type": "stream",
     "text": [
      "/home/snehil/.dev_env/lib/python3.10/site-packages/sklearn/feature_extraction/text.py:402: UserWarning: Your stop_words may be inconsistent with your preprocessing. Tokenizing the stop words generated tokens ['अथव', 'अध', 'अन', 'अपन', 'अभ', 'आग', 'आद', 'आपक', 'इत', 'इनक', 'इसक', 'इसम', 'इसल', 'उनक', 'उसक', 'एव', 'ऐस', 'कभ', 'करत', 'करन', 'कह', 'कहत', 'गय', 'जबक', 'जर', 'जह', 'झक', 'तथ', 'तन', 'तर', 'दर', 'धर', 'नस', 'पड', 'पहल', 'बड', 'बन', 'बह', 'यत', 'यद', 'यम', 'रख', 'रत', 'रह', 'रहत', 'लक', 'वग', 'वय', 'वर', 'सक', 'सकत', 'सभ', 'सम', 'सर', 'सस', 'हमन', 'हर'] not in stop_words.\n",
      "  warnings.warn(\n"
     ]
    }
   ],
   "source": [
    "feature = tfidf.fit_transform(df.text_tokenize_normalize)"
   ]
  },
  {
   "cell_type": "code",
   "execution_count": 26,
   "metadata": {},
   "outputs": [
    {
     "data": {
      "text/plain": [
       "<Compressed Sparse Row sparse matrix of dtype 'float64'\n",
       "\twith 1200576 stored elements and shape (133264, 8434)>"
      ]
     },
     "execution_count": 26,
     "metadata": {},
     "output_type": "execute_result"
    }
   ],
   "source": [
    "feature"
   ]
  },
  {
   "cell_type": "code",
   "execution_count": 27,
   "metadata": {},
   "outputs": [],
   "source": [
    "# to get cosine similarity\n",
    "from sklearn.metrics.pairwise import linear_kernel\n",
    "def give_top_10_similar_movies(dz,text):\n",
    "    index = dz[dz.text_tokenize_normalize==text].index[0]\n",
    "    cosine_similarities = linear_kernel(feature[index:index+1], feature).flatten()\n",
    "    dz['similar'] = cosine_similarities\n",
    "    return dz.sort_values('similar',ascending=False)['text_tokenize_normalize'].head(10).to_list()\n"
   ]
  },
  {
   "cell_type": "code",
   "execution_count": 33,
   "metadata": {},
   "outputs": [
    {
     "data": {
      "text/plain": [
       "'कोलकाता नाइट राइडर्स और दिल्ली डेयरडेविल्स एक ही समूह में हैं इसी तरह चेन्नई सुपर किंग्स और मुंबई इंडियंस दूसरे समूह में हैं'"
      ]
     },
     "execution_count": 33,
     "metadata": {},
     "output_type": "execute_result"
    }
   ],
   "source": [
    "df.loc[27833].text_tokenize_normalize"
   ]
  },
  {
   "cell_type": "code",
   "execution_count": null,
   "metadata": {},
   "outputs": [
    {
     "data": {
      "text/plain": [
       "['कोलकाता नाइट राइडर्स और दिल्ली डेयरडेविल्स एक ही समूह में हैं इसी तरह चेन्नई सुपर किंग्स और मुंबई इंडियंस दूसरे समूह में हैं',\n",
       " 'डेल्ही डेयरडेविल्स कोलकाता नाइट राइडर्स और मुंबई इंडियंस की टीम पहले ही प्ले ओफ के लिए क्वालिफाई कर चुकी हैं',\n",
       " 'इस जीत के साथ मुंबई इंडियंस तीसरे स्थान पर आ गया है जबकि दिल्ली डेयरडेविलस पहले और कोलकाता नाइट राइडर्स दूसरे स्थान पर है',\n",
       " 'इंडियन प्रीमियर लीग आईपीएल की चार टीमें मुंबई इंडियंस चैन्नई सुपर किंग्स कोलकाता नाइट राइडर्स और दिल्ली डेयरडेविल्स भी इसमें हिस्सा ले रही हैं',\n",
       " 'मुख्य दौर के मुकाबले 13 अक्टूबर से शुरू होंगे भारत की चार टीमें मुख्य दौर में हैं जिनमें इंडियन प्रीमियर लीग की विजेता कोलकाता नाइट राइडर्स चेन्नई सुपर किंग्स मुंबई इंडियंस और दिल्ली डेयरडेविल्स शामिल हैं',\n",
       " 'कोलकाता नाइट राइडर्स',\n",
       " 'कोलकाता में हुए आईपीएल के एक मैच में डेल्ही डेयरडेविल्स ने कोलकाता नाइट राइडर्स को आठ विकेट से हरा दिया है',\n",
       " 'पहले स्थान पर रही डेल्ही डेयरडेविल्स और दूसरे स्थान पर रही कोलकाता नाइट राइडर्स की टीम के बीच होने वाले मैच का विजेता तो फाइनल में पहुंच जाएगा लेकिन इस मैच में हारने वाले को एक मौका और मिलेगा',\n",
       " 'आईपीएल 5 का दूसरा मैच गुरुवार को कोलकाता नाइट राइडर्स और डेल्ही डेयरडेविल्स के बीच कोलकाता के ईडन गार्डन्स मैदान पर खेला जाएगा',\n",
       " 'चैंपियंस लीग से बाहर हुआ कोलकाता नाइट राइडर्स']"
      ]
     },
     "execution_count": 34,
     "metadata": {},
     "output_type": "execute_result"
    }
   ],
   "source": [
    "give_top_10_similar_movies(df,df.loc[27833].text_tokenize_normalize)"
   ]
  },
  {
   "cell_type": "code",
   "execution_count": 35,
   "metadata": {},
   "outputs": [
    {
     "data": {
      "text/plain": [
       "'सोमवार को रूसी फुटबोल संघ ने एक बयान दारी कर कहा था पोलैंड में मौजूद सभी रूसी फुटबोल समर्थकों से हम अनुरोध करते हैं कि वे इस बात का ख्याल रखें कि वे रूस का प्रतिनिधित्व करते हैं कृपया आप अपना अपने देश और अपनी टीम सम्मान करें'"
      ]
     },
     "execution_count": 35,
     "metadata": {},
     "output_type": "execute_result"
    }
   ],
   "source": [
    "df.loc[1200].text_tokenize_normalize"
   ]
  },
  {
   "cell_type": "code",
   "execution_count": 29,
   "metadata": {},
   "outputs": [
    {
     "data": {
      "text/plain": [
       "['सोमवार को रूसी फुटबोल संघ ने एक बयान दारी कर कहा था पोलैंड में मौजूद सभी रूसी फुटबोल समर्थकों से हम अनुरोध करते हैं कि वे इस बात का ख्याल रखें कि वे रूस का प्रतिनिधित्व करते हैं कृपया आप अपना अपने देश और अपनी टीम सम्मान करें',\n",
       " 'भारतीय फुटबोल प्रेमियों के बीच डिडिए ड्रोग्बा',\n",
       " 'सोफ्टबोल',\n",
       " 'इस फुटबोल पर मिसाकी मुराकामी का नाम लिखा हुआ था',\n",
       " 'फुटबोल',\n",
       " 'गुटबाजी',\n",
       " 'पार्टी में गुटबाजी न करें',\n",
       " 'घोटाले और गुटबाजी',\n",
       " 'बास्केटबोल',\n",
       " 'भिडे फुटबोल फैन']"
      ]
     },
     "execution_count": 29,
     "metadata": {},
     "output_type": "execute_result"
    }
   ],
   "source": [
    "give_top_10_similar_movies(df,df.loc[1200].text_tokenize_normalize)"
   ]
  },
  {
   "cell_type": "code",
   "execution_count": null,
   "metadata": {},
   "outputs": [],
   "source": []
  }
 ],
 "metadata": {
  "kernelspec": {
   "display_name": ".dev_env",
   "language": "python",
   "name": "python3"
  },
  "language_info": {
   "codemirror_mode": {
    "name": "ipython",
    "version": 3
   },
   "file_extension": ".py",
   "mimetype": "text/x-python",
   "name": "python",
   "nbconvert_exporter": "python",
   "pygments_lexer": "ipython3",
   "version": "3.10.12"
  },
  "orig_nbformat": 4
 },
 "nbformat": 4,
 "nbformat_minor": 2
}
