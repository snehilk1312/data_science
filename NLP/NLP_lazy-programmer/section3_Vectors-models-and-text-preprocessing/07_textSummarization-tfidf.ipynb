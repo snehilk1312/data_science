{
 "cells": [
  {
   "cell_type": "code",
   "execution_count": 1,
   "metadata": {},
   "outputs": [],
   "source": [
    "import pandas as pd\n",
    "from sklearn.feature_extraction.text import TfidfVectorizer\n",
    "import nltk\n",
    "import re\n",
    "import numpy as np\n",
    "import string\n",
    "import warnings\n",
    "# hide warnings\n",
    "warnings.filterwarnings('ignore')"
   ]
  },
  {
   "cell_type": "code",
   "execution_count": 2,
   "metadata": {},
   "outputs": [],
   "source": [
    "df = pd.read_csv('../data/bbc_text_cls.csv')"
   ]
  },
  {
   "cell_type": "code",
   "execution_count": 3,
   "metadata": {},
   "outputs": [
    {
     "data": {
      "text/plain": [
       "1292      502\n",
       "1561      720\n",
       "1503      725\n",
       "1515      728\n",
       "1568      741\n",
       "        ...  \n",
       "1188    13828\n",
       "2224    16159\n",
       "1275    18388\n",
       "762     19137\n",
       "1185    25484\n",
       "Name: text, Length: 2225, dtype: int64"
      ]
     },
     "execution_count": 3,
     "metadata": {},
     "output_type": "execute_result"
    }
   ],
   "source": [
    "df.text.apply(lambda x:len(x)).sort_values()"
   ]
  },
  {
   "cell_type": "code",
   "execution_count": 4,
   "metadata": {},
   "outputs": [],
   "source": [
    "article = df.loc[1185, 'text']"
   ]
  },
  {
   "cell_type": "code",
   "execution_count": 5,
   "metadata": {},
   "outputs": [],
   "source": [
    "def custom_tokenizer(doc):\n",
    "    # tokenize using nltk\n",
    "    doc = nltk.word_tokenize(doc) # string got tokenized - like split()\n",
    "    doc = [i for i in doc if i not in string.punctuation]\n",
    "    return doc\n",
    "\n",
    "tfidf = TfidfVectorizer(stop_words='english',analyzer='word',lowercase=True,tokenizer=custom_tokenizer)"
   ]
  },
  {
   "cell_type": "code",
   "execution_count": 6,
   "metadata": {},
   "outputs": [],
   "source": [
    "article = re.sub(r'\\n+','. ',article)"
   ]
  },
  {
   "cell_type": "code",
   "execution_count": 7,
   "metadata": {},
   "outputs": [],
   "source": [
    "sents = nltk.sent_tokenize(article)"
   ]
  },
  {
   "cell_type": "code",
   "execution_count": 8,
   "metadata": {},
   "outputs": [
    {
     "name": "stdout",
     "output_type": "stream",
     "text": [
      "[\"Terror powers expose 'tyranny'.\", \"The Lord Chancellor has defended government plans to introduce control orders to keep foreign and British terrorist suspects under house arrest, where there isn't enough evidence to put them on trial.. Lord Falconer insists that the proposals do not equate to a police state and strike a balance between protecting the public against the threat of terrorism and upholding civil liberties.\", 'But thriller writer Frederick Forsyth tells BBC News of his personal response to the move..', 'There is a mortal danger aimed at the heart of Britain.', 'Or so says Home Secretary Charles Clarke.', 'My reaction?', 'So what?', 'It is not that I am cynical or just do not care.', 'I care about this country very much..', 'But in the 66 years that I have been alive, there has not been one hour, of one day, of one month, of one year, when there has not been a threat aimed at us.', 'My point is, the British have always coped without becoming a dictatorship.', 'We have coped with fear without becoming a state based on fear; we have coped with threat without turning our country into a land of state threat.', 'But that is what the Blair government now seeks to do - create a tyranny to defend us from the al-Qaeda tyranny..', 'I was born on 25 August, 1938.', 'The mortal threat back then was a scruffy little Austrian called Adolf Hitler.', 'A week after my first birthday, the threat had become reality.', 'We were at war.', 'My father wore a uniform for five years.', 'After 1945 we yearned for peace at last.', 'But in 1946 Winston Churchill told us - from the Baltic to the Adriatic an Iron Curtain has descended across Europe.', 'Behind the Iron Curtain, another genocidal psychopath, another threat.', 'Josef Stalin triggered the Cold War, with the Berlin blockade in 1948.', 'My whole generation was blighted by it.. We were threatened by the nuclear holocaust, the nuclear wind, the nuclear winter.', 'We built shelters that would have sheltered nothing.', 'We spent our treasure on weapons instead of hospitals.', 'We took silly precautions.', 'Some fought it; some marched futilely against it.', 'Some pretended it was not there.', 'The Cold War lasted 43 years, but we remained a parliamentary democracy.', 'By the early seventies it was terrorism as well.', 'Al Fatah, Black September, Red Brigades, but most of all for us the IRA and the INLA.', 'Thirty more years; 300 policemen and women, over 600 soldiers, more than 3,000 civilians dead, but we won because even IRA bombs could not force us to become a tyranny.', 'That was why the tyrants lost.', 'Civil rights were infringed as little as humanly possible.', 'Evidence had to be taken in secret to protect covert sources; yes , and one judge, no-jury courts had to be instituted when juries were terrorised.', 'Informants had to be given immunity from their own crimes to win the bigger battle.', 'But habeas corpus did not die; right of appeal was not abolished.', 'Now the threat is Islamic fundamentalism.', 'Its leaders want to destroy our society; so did the IRA..', 'It is based and funded abroad; so was the IRA.', 'It has sleeper fanatics inside our society; so did the IRA.', 'It is extremely hard to penetrate with our agents; so was the IRA.', 'The prime movers are not easy to bring to trial; neither were the IRA.', 'But we did.', 'And without becoming a tyranny.', 'Now the Blair government proposes the law system of fascism and communism.', 'The citizen can be arrested and held without charge or trial, not even on the careful consideration of an experienced judge, but the whim of a political activist called a government minister.', 'To be protected from terror the government says, we must become a tyranny.', \"But a tyranny is based on the citizen's terror.\", 'This is not victory; this is defeat before a shot is fired.. An interesting article - its good to see widening participation in the debate - but I suggest we move one step further.', \"Our own bombs and bullets will can only shatter peace, because invading foreign nations, imprisoning the innocent and 'hunting' in the 'shadows' cannot destroy an evil of the mind, and hatred within the heart.\", 'Rather than focusing upon effect, we should consider the cause, because terrorism does not begin with bombs.', 'Why not try a foreign policy of compassion, it can only enhance our democracy, and share our freedom..', 'I agree with Frederick Forsyth.', \"We really can't deal with terrorism by turning Britain into a fascist state.\", 'What we really need is more honesty from our security services and our politicians.', \"If they do not have evidence to bring these people to trial, there probably isn't any.\", 'Our security services, behave like the detective who having decided that a certain person is guilty, rakes over all kinds of obscure and flimsy evidence to try and prove it, while the real villain gets away.', 'Remember there were no WMD in Iraq.', 'Just because a person may have made some stupid and naive decisions in life does not make them a terrorist..', \"In this overly 'politically correct' society, it is good to see someone like Mr. Forsyth speak out.\", 'Yes, there has been oppression by the British government in the past, and overstepping the mark in places like Ireland, but yes, we are still a democracy where it is rare to be arrested without charge/trial etc.', '(apart from a number of prisoners in Belmarsh goal, for example).This country signs up to human rights, and then pretends that they only apply to the people with nothing to fear, the innocent people (defined by whom?).', 'When ID cards become mandatory, the data collected will not be protected by the Data Protection Act, and will be readily available to people like GCHQ, with no control by the person whose ID is being checked..', 'The threat now is new.', 'You cannot compare the threats of past years with now.', 'Forsyth says 3000 died over 30 years or terrorism; 3000 people died in one morning in NY on September 11th 2001.', 'The threat today is that terrorists will acquire nuclear or biological technology.', 'A Kilo of Semtex will flatten a building, a Kilo of plutonium will flatten a city.', 'You now have a combination of people who will perform terrorist acts with technology that is rapidly becoming accessible.', 'I agree, the government is probably encouraging a degree of mass-hysteria and talking up the threat; but talking-down the threat and doing nothing is unacceptable too..', \"The problem with this issue is not that it isn't important, but the fact that in general we Brits can be so politically apathetic some times, that we will just let this go without telling the government no.\", 'However, as the nation that gave the world the common law and a true sense of the rights of individual liberty I hope this will prove to be one step too far.. As somebody of Chinese origin, I can say that this country used to be a good place to migrate and start a new life.', \"Whilst life wasn't perfect, we could make better for ourselves.\", 'Now we are riddled with red tape and be told what we can or cannot do.', 'We have to be politically-correct and we are not allowed to have beliefs or opinions.', 'We have a Prime Minister who spends too much time meddling in US politics and affairs which have little to do with the lives of British Citizens at home or abroad.', 'Mr Forsyth has done a good job in voicing his opinions.', \"Let's hope the BBC doesn't get gagged for letting people express their views.\", \"The people have the right to know and the BBC's role is to Inform, Educate and Entertain....\", 'I agree.', 'Terrorists intend to spread fear but in reality it is the government which has spread the fear, by its constant publicising of the this invisible enemy so dangerous that we must allow them to ride roughshod over our rights and liberties.', 'In the end, the very thing we seek to protect is what we are giving up in the name of safety from this invisible enemy.', 'The terrorists have already won..', 'I absolutely agree with Frederick Forsyth.', 'Yes we have to defend ourselves against terrorism but existing laws seem to be more than adequate.', 'The idea that the \"new terrorism\" demands new powers is erroneous.', 'The evidence of any real terrorist capability in the UK is scant.', 'Ricin, for example, is a dangerous poison but it is not a weapon of mass destruction.', 'What is really worrying is the enthusiasm of Mr Blair and his government for authoritarian reactions and attempts to manipulate the electorate through fear..', 'If the government has its way with ID cards, tracking and so on then totalitarianism has won and as such it then matters little whether we give in to the terrorists demands or not.', 'We will have lost the precious freedom which Bush and Blair constantly tells us we have and that they seek to bring to others..', 'I agree wholeheartedly with Mr Forsyth.', 'I am shocked at the ease with which this government is prepared to wipe out a major portion of the liberties that British people have enjoyed for centuries - the right not to be deprived of our liberty without a trial in open court.', 'That goes right back to Magna Carta, and ordinary people have spilled their blood to enforce that right against governments who thought they \"knew best\"..', \"When you look at today's Britain, you realise George Orwell was only wrong about one thing: the date.. Frederick Forsyth puts it beautifully.\", 'The government is seeking to introduce a police state.', 'The new powers of home internment without trial follow a pattern which includes the introduction of surveillance via compulsory ID cards and the linking of data bases, together with the un-British idea that we will have to swear allegiance to the state at the age of 18 years.', 'We are sleep-walking into this.', 'Wake up!.', 'An interesting view but missing two crucial facts of this new threat: 1) If these terrorists acquire weapons of mass destruction they WILL use them without fear of Mutually Assured Destruction that kept the cold war in a state of tense balance.', 'These people will use devastating force against us without fear of ANY consequence.', '2) The terrorists are prepared to use suicide bombers which means they could kill innocent people on the London Underground and we could do very little to stop it.', 'Because these terrorists are potentially SO deadly, we have to come up with new, tougher responses.', 'It will be a little late in the day when people outside London wake up one morning to find out that London has been nuked.', \"We won't have much of a society left to debate !.\", \"He's correct in most of what he says.\", 'Mind you he does seem to have forgotten that disgraceful internment policy in Northern Ireland which probably caused many idealistic if misguided young Catholics to join the IRA.', 'Administrative detention of Muslims could have a similar effect now..', 'Surely we the public would be better protected if the security services, rather than alerting a suspect terrorist by placing them under house arrest (and for how long?', ')They were to place suspect terrorist under surveillance and maybe acquire sufficient evidence to prosecute or even better prevent a terrorist attack..', \"I don't usually have much time for Mr Forsyth's largely right wing views but this time he has got it spot on.\", 'There is no doubt that there are terrorist organisations who would like to do harm to the U.K. but it is very doubtful whether al-Qaeda is a global organisation co-ordinating this.', 'The rise of surveillance cameras, ID cards, the plan to charge for road use by tracking every vehicle at all times, this is the stuff of nightmares.', 'Add to this this new legislation which effectively means that the protection of the law will be removed from anyone at the whim of the Home Secretary, and I genuinely wonder what sort of world my two children will inherit.', 'Where will this end.', \"As it stands terrorists do not need to attack the U.K. it's government will soon have it's people terrorised more that they could very achieve with a few bombs.. Mr Forsyth has expressed exactly what my gut fears and reservations were about this proposed legislation, but could not verbalise.\", 'Thank you.. Mr Forsyth seems to forget that killings in the Troubles occurred on both sides of the religious divide and was carried out by killers from both sides.', 'He also forgets basic Human Rights were suspended then as now.', 'Experienced Judges sat over some of the greatest miscarriages of justice during those times.', 'For very little return and maximum alienation.', 'These laws and the emphasis on the Islamic threat will just do the same.. Forsyth is wrong.', 'The nature of the current threat is new.', 'It is no longer to our armed forces, as the Soviet threat in the Eastern bloc was.', 'It is to you and I.', 'The terrorist aim to kill indiscriminately.', 'The best comparison is therefore the blitz, 1941.', 'At this time, let us not forget, suspects (foreign and British were routinely rounded up and interned for the duration of the war, without any complaints from the public.', 'We must not forget we are at war..', 'I\\'d say that that the likelihood of an attack by a sleeper cell of fundamentalist lunatics against a major UK target is a \"When\" not an \"If\" probability.', \"I'll bet any money you like that the day after any such attack Freddie Forsyth will be saying that the government didn't do enough to protect the UK.\", 'People like Forsyth can only see one side of any argument and for him it is the side that is opposite New Labour and Tony Blair..', 'I agree wholeheartedly with Mr Forsyth.', 'The very reason this country has been such a wonderful place to live, is under attack, not from terrorists, but from this government.', \"The perpetuation of the perceived terrorist threat is not because of what the 'alleged' terrorists are doing, but from our own government.\", 'I believe what this government is doing, is, at the very least, highly questionable and at worst, sinister.', 'At what point will they feel they have enough control over every single person in the British Isles; when we are all tagged and monitored constantly?', 'Our freedom is being craftily and surreptitiously whittled away by this government and we are gaining nothing.', 'It should be of great concern to everyone..', 'I am slightly older than Mr Forsyth and therefore have lived through the same history as him.', 'I am against a police state and would not like to think that I lived in one.', 'I think that the attack on Iraq made the international situation worse and may have provoked further acts of terrorism.. How true.', \"There are extremely worrying parallels between Britain now and Germany during the 30's.\", 'I never thought it would be so easy to take over a country from within.. Mr Forsyth has forgotten one key point; the terrorists who threaten Britain today are well aware that Hitler, Stalin, and the IRA all failed.', 'As a result modern day terrorists are willing to do things their predecessors did not.', 'That does not mean that the civil liberties of modern Britain must be eroded to counter the threat; that should always be the absolute last resort.', \"But to meet the new threat, to defeat the sinister fanaticism of today's terrorists, we may need to do things a little differently.\", \"Let us hope not.. Frederic Forsythe's comments seem to me to be a well-thought-out analysis of why we (human society as a whole, and Britain in particular) should resist the temptation to over-protect through fear.\", \"It is this fear which enables terrorists to succeed in the end, and terrorists can come in all forms, as Mr. Forsythe's opening comments suggest..\", 'I am reminded of a quote attributed to Thomas Jefferson.', '\"A nation that limits freedom in the name of security will have neither.\".', 'The government are faced with an incredibly difficult task, and have made a policy to deal with it.', \"It's all very well criticising that policy, but if Mr Forsythe can't draw on his years of experience to offer an alternative, I say 'So what?'\", \"to his opinions.. Frederick Forsyth's rhetoric is absurd and his conclusions laughable.\", 'He distorts reality to serve his own prejudice against New Labour.', 'This government seeks to balance protection of our democracy with minimum loss of civil rights.', 'It is Frederick Forsyth who is the extremist, because he does not appreciate the need for balance..', 'I rarely find myself agreeing with My Forsyth, but in this instance I think he is correct.', 'The rule of law must prevail, civil liberties are worth defending.', \"If the government can hold 'suspects' without charge or trial, what's next?.\", 'I agree absolutely.', 'By introducing fascist type laws we loose the moral high ground in our fight against terror.', 'Our democratic system is not perfect, but as Churchill points out it is \"better than all the others that have been tried\".', 'Terrorist attacks will take place but for many reasons we should take that personal risk in return for personal freedom..', 'I do not usually agree with Mr. Forsyth, but he is spot on here.', 'The single biggest threat we face is that of a government dedicated to acting illegally and manipulating international and national law to suit its own purpose.', 'Totalitarianism always requires an outside threat, justifying a range of extraordinary powers leaders want.', 'The British government is a far greater threat that and terrorist organisation..', 'Although, in principle I agree with him, Frederick Forsyth fails to address one key point- al-Qaeda attacks (though obviously there have been none yet in the UK) seek to kill the maximum number of people.', 'The IRA wanted to limit the death toll of their attacks so as to maintain support among the republican movement..', \"Yes, I agree with Mr. Forsyth's views.\", \"I do not believe the government's plans are justified.\", \"There is over reaction to and the negative influence of the US President's interpretation of democracy and freedom.\", 'He uses the same arguments that were current before the WWII, the Wars to \"liberate\" Iraq, Afghanistan with Syria and Iran to come.', 'We are leaving a poor inheritance for the future generations.. Mr Forsyth is a wonderful writer and should keep his fiction where it belongs.', 'The British Government is not going down the road that Mr Forsyth suggests.', \"Sadly comments such as his will make a lot of people believe that they are governed by people who are fast becoming tyrants instead of being genuinely committed to stopping tyranny, even if the method employed to do that is at the moment alien to the British people who have lived in a democracy protected by Tony Blair and others of like mind who, Mr. Forsyth seems to be putting along side the 'scruffy little Austrian.'.\", \"Thomas Hobbes would be smiling in his grave at Labour's propositions.\", 'Like New Labour, he called himself a libertarian.', \"Like New Labour, he believed he was promoting the people's best interests.\", 'But as Forsythe criticises this government, Hobbes has been criticised by most subsequent philosophers for arguing his way into the hands of the totalitarians.', 'Simply put, he argued that in favour of the ultimate liberty - the liberty to live - man should be prepared to surrender all other liberties to a supreme sovereign, as protection against his fellow, barbaric, man.', 'Hobbes has been roundly condemned by posterity, and rightly so.', 'I hope New Labour suffers the same treatment..', \"I agree with Mr Forsyth's views.\", 'The governments approach is totally against the spirit of British democracy.', \"They must not be allowed to get away with it.. Of course Frederick is wrong about Britain winning the war against the IRA and he's wrong too about the country not becoming a tyranny.\", 'Has he forgotten about shoot to kill, torture, internment without trial, collusion with loyalist death squads etc?.', \"My background is somewhat similar to Freddie's so I am persuaded to agree with many of his sentiments.\", 'We can have no moral justification for imposing our system of government on anyone while we are systematically depriving our own citizens of basic individual and collective freedoms.. Whilst the principle of keeping potential terrorists under house arrest might seem superficially attractive, it is, unfortunately, also the first step towards totalitarianism.', 'Who is to decide whom is a suspect?', 'Why should we believe them?', 'Who can have faith in the honesty, integrity, and competence of our intelligence services and politicians in light of the events of recent years?', 'What is to stop false denunciations?', 'What of those falsely accused who will lose their careers?', 'Who will support their families?', 'Will their children still go to school?', \"It smacks to me of the methods of Nazi Germany, Stalin's Russia, Ceausescu's Romania - the list goes on.\", 'It looks as if a new dark age is coming..', \"I see that opinion on Mr Forsyth's remarks are divided.\", \"The problem I see is that those who support imprisonment without trial believe it will never happen to them or their family, only to people they don't like or are scared of.\", 'But history has shown that if you have laws like that, they always get abused by those in power.', 'After all, today you may be scared of the same people as those in power but someday those in power may be scared of you!', \"And that day, you'll be the one imprisoned without the chance of justice.\", 'Our laws are such that you cannot just be imprisoned at the whim of our police forces, you have to be shown to be deserving of it.', 'If we imprison people without trial for an indeterminate period, we are no better that those we are fighting..', \"I never thought it possible for me to agree with a single word uttered by Frederick Forsyth, but I'm in wholehearted agreement with him on this one.\", \"We, as a nation are in grave danger of being duped by pro US propaganda, which of course also means we'll inherit most, if not all of their total paranoia, and allow our governments, of any political persuasion incidentally, to gradually, and insidiously, impose a police state by well tried & tested back door methods.\", \"I grieve for the future of my children, it's no wonder they're adamant they don't ever want any of their own..\", 'This government, with much fanfare, signs us up to the European Convention on Human Rights but now wants to introduce indefinite house arrest without trial.', \"This puts it on a par with the government of Burma.. Like many of your respondents, I wouldn't usually think of Mr Forsyth as someone whose views I share, but in the instance of opposing Charles Clark's proposals for house arrest, I agree wholeheartedly with Mr Forsyth/.\", 'I agree with Mr Forsyth.', \"Just look at the facts - our government (along with the US) invaded another sovereign country (Iraq) by selecting intelligence that backed it's case based on fear.\", 'The facts turned out to be very different.', \"If individuals are treated in the same distorted way, then we've done ourselves more damage than any terrorist organisation could with bombs.\", 'We become animals too..', 'I agree in many ways with what Mr Forsyth has said - if we are to be respected and have influence within the world we must be seen to be walking the walk as well as talking the talk - how can we accuse countries such as Zimbabwe and Burma of human rights abuses when we are locking up people who may be totally innocent, it is hypocrisy of the highest order.', 'Mr Forsyth links \"Islamic fundamentalism\" to the new \"threat\".', 'However it appears that he has misunderstood the term \"Islamic fundamentalism\".', \"It should be pointed out that a Muslim who adheres to the true fundamentals of the Qur'aan and the teachings of the last Prophet Muhammad is an Islamic Fundamentalist.\", 'This person does not commit suicide in any shape or form, nor does she/he kill innocent women, men and children.', 'This person is self-reflective and constantly tries to better her/his actions by being good to others.', 'The people who Mr Forsyth labels the new \"threat\" are those who do not follow the correct teachings of Islam.', 'They have arrived at their own interpretations and assumptions with regards their actions.', 'On top of that, they claim to be following Islam in its true form!.', \"I accept that the intentions of these policies are to make Britain a safer place but I cannot think of a single example from history where doing this sort of thing has ever made any difference - in Northern Ireland internment certainly didn't achieve anything - the bombings didn't stop, and it could be argued that all it achieved was to just supply the IRA with yet more angry and resentful republicans willing to take up arms against the British..\", 'Being eight years older than Frederick Forsyth and a survivor of the Blitz on London, it is easy to agree with him, he is absolutely spot on.', 'During the IRA bombings there were massive explosions in Canary Wharf, to the right of where I write this, and also to the left in the City of London.', 'Notwithstanding these and the attempted and nearly successful assassination attempts on Prime Minister Thatcher in Brighton and on later occupants of 10 Downing Street, there was no retaliatory blitz on Belfast or Dublin as there has been on Afghanistan and Iraq.', 'Even when England was in true peril in 1940 apart from some detentions there were no wholesale derogation of habeas corpus and the like.', 'We have to see off these latest attempts on our liberties including ID cards, which Winston Churchill decided had to go since, he said, the average Bobby on the beat could not be relied on to not be tempted to take undue advantage against the citizen going about their lawful activities (incidentally I can still remember my old ID card number).', \"Hence it is clear that the far too great police state powers set for the statute books have to be resisted and neutered.. What can I add to Mr. Forsyth's eloquently put arguments... except applause!\", 'Well done that man for standing up and being counted in the \"war against tyranny\".']\n"
     ]
    }
   ],
   "source": [
    "print(sents)"
   ]
  },
  {
   "cell_type": "code",
   "execution_count": 9,
   "metadata": {},
   "outputs": [],
   "source": [
    "sent_df = pd.DataFrame({'Sentences':sents})"
   ]
  },
  {
   "cell_type": "code",
   "execution_count": 10,
   "metadata": {},
   "outputs": [
    {
     "data": {
      "text/html": [
       "<div>\n",
       "<style scoped>\n",
       "    .dataframe tbody tr th:only-of-type {\n",
       "        vertical-align: middle;\n",
       "    }\n",
       "\n",
       "    .dataframe tbody tr th {\n",
       "        vertical-align: top;\n",
       "    }\n",
       "\n",
       "    .dataframe thead th {\n",
       "        text-align: right;\n",
       "    }\n",
       "</style>\n",
       "<table border=\"1\" class=\"dataframe\">\n",
       "  <thead>\n",
       "    <tr style=\"text-align: right;\">\n",
       "      <th></th>\n",
       "      <th>Sentences</th>\n",
       "    </tr>\n",
       "  </thead>\n",
       "  <tbody>\n",
       "    <tr>\n",
       "      <th>0</th>\n",
       "      <td>Terror powers expose 'tyranny'.</td>\n",
       "    </tr>\n",
       "    <tr>\n",
       "      <th>1</th>\n",
       "      <td>The Lord Chancellor has defended government pl...</td>\n",
       "    </tr>\n",
       "    <tr>\n",
       "      <th>2</th>\n",
       "      <td>But thriller writer Frederick Forsyth tells BB...</td>\n",
       "    </tr>\n",
       "    <tr>\n",
       "      <th>3</th>\n",
       "      <td>There is a mortal danger aimed at the heart of...</td>\n",
       "    </tr>\n",
       "    <tr>\n",
       "      <th>4</th>\n",
       "      <td>Or so says Home Secretary Charles Clarke.</td>\n",
       "    </tr>\n",
       "  </tbody>\n",
       "</table>\n",
       "</div>"
      ],
      "text/plain": [
       "                                           Sentences\n",
       "0                    Terror powers expose 'tyranny'.\n",
       "1  The Lord Chancellor has defended government pl...\n",
       "2  But thriller writer Frederick Forsyth tells BB...\n",
       "3  There is a mortal danger aimed at the heart of...\n",
       "4          Or so says Home Secretary Charles Clarke."
      ]
     },
     "execution_count": 10,
     "metadata": {},
     "output_type": "execute_result"
    }
   ],
   "source": [
    "sent_df.head()"
   ]
  },
  {
   "cell_type": "code",
   "execution_count": 11,
   "metadata": {},
   "outputs": [
    {
     "data": {
      "text/plain": [
       "<Compressed Sparse Row sparse matrix of dtype 'float64'\n",
       "\twith 2071 stored elements and shape (233, 1102)>"
      ]
     },
     "execution_count": 11,
     "metadata": {},
     "output_type": "execute_result"
    }
   ],
   "source": [
    "feature = tfidf.fit_transform(sent_df.Sentences)\n",
    "feature"
   ]
  },
  {
   "cell_type": "code",
   "execution_count": 12,
   "metadata": {},
   "outputs": [],
   "source": [
    "feature_matrix = feature.todense()"
   ]
  },
  {
   "cell_type": "code",
   "execution_count": 13,
   "metadata": {},
   "outputs": [
    {
     "data": {
      "text/plain": [
       "matrix([[0.        , 0.        , 0.        , ..., 0.        , 0.        ,\n",
       "         0.        ],\n",
       "        [0.        , 0.        , 0.        , ..., 0.        , 0.        ,\n",
       "         0.        ],\n",
       "        [0.        , 0.        , 0.        , ..., 0.        , 0.        ,\n",
       "         0.        ],\n",
       "        ...,\n",
       "        [0.        , 0.        , 0.        , ..., 0.        , 0.        ,\n",
       "         0.        ],\n",
       "        [0.        , 0.        , 0.        , ..., 0.        , 0.        ,\n",
       "         0.        ],\n",
       "        [0.32322119, 0.        , 0.        , ..., 0.        , 0.        ,\n",
       "         0.        ]], shape=(233, 1102))"
      ]
     },
     "execution_count": 13,
     "metadata": {},
     "output_type": "execute_result"
    }
   ],
   "source": [
    "feature_matrix"
   ]
  },
  {
   "cell_type": "code",
   "execution_count": 478,
   "metadata": {},
   "outputs": [],
   "source": [
    "# def avg_calculator(x):\n",
    "#     x = x.tolist()[0]\n",
    "#     x = [j for j in x if j>0]\n",
    "#     x = sum(x)/len(x)\n",
    "#     return x\n",
    "# [avg_calculator(i) for  i in feature_matrix]\n"
   ]
  },
  {
   "cell_type": "code",
   "execution_count": 14,
   "metadata": {},
   "outputs": [],
   "source": [
    "sent_df['score'] = np.true_divide(feature_matrix.sum(1),(feature_matrix!=0).sum(1)).tolist()"
   ]
  },
  {
   "cell_type": "code",
   "execution_count": 15,
   "metadata": {},
   "outputs": [],
   "source": [
    "sent_df.score = sent_df.score.apply(lambda x:x[0])"
   ]
  },
  {
   "cell_type": "code",
   "execution_count": 16,
   "metadata": {},
   "outputs": [
    {
     "data": {
      "text/html": [
       "<div>\n",
       "<style scoped>\n",
       "    .dataframe tbody tr th:only-of-type {\n",
       "        vertical-align: middle;\n",
       "    }\n",
       "\n",
       "    .dataframe tbody tr th {\n",
       "        vertical-align: top;\n",
       "    }\n",
       "\n",
       "    .dataframe thead th {\n",
       "        text-align: right;\n",
       "    }\n",
       "</style>\n",
       "<table border=\"1\" class=\"dataframe\">\n",
       "  <thead>\n",
       "    <tr style=\"text-align: right;\">\n",
       "      <th></th>\n",
       "      <th>Sentences</th>\n",
       "      <th>score</th>\n",
       "    </tr>\n",
       "  </thead>\n",
       "  <tbody>\n",
       "    <tr>\n",
       "      <th>32</th>\n",
       "      <td>That was why the tyrants lost.</td>\n",
       "      <td>0.707107</td>\n",
       "    </tr>\n",
       "    <tr>\n",
       "      <th>64</th>\n",
       "      <td>The threat now is new.</td>\n",
       "      <td>0.706659</td>\n",
       "    </tr>\n",
       "    <tr>\n",
       "      <th>190</th>\n",
       "      <td>Who is to decide whom is a suspect?</td>\n",
       "      <td>0.705663</td>\n",
       "    </tr>\n",
       "    <tr>\n",
       "      <th>195</th>\n",
       "      <td>Who will support their families?</td>\n",
       "      <td>0.705663</td>\n",
       "    </tr>\n",
       "    <tr>\n",
       "      <th>196</th>\n",
       "      <td>Will their children still go to school?</td>\n",
       "      <td>0.704484</td>\n",
       "    </tr>\n",
       "    <tr>\n",
       "      <th>...</th>\n",
       "      <td>...</td>\n",
       "      <td>...</td>\n",
       "    </tr>\n",
       "    <tr>\n",
       "      <th>98</th>\n",
       "      <td>We are sleep-walking into this.</td>\n",
       "      <td>NaN</td>\n",
       "    </tr>\n",
       "    <tr>\n",
       "      <th>99</th>\n",
       "      <td>Wake up!.</td>\n",
       "      <td>NaN</td>\n",
       "    </tr>\n",
       "    <tr>\n",
       "      <th>115</th>\n",
       "      <td>Where will this end.</td>\n",
       "      <td>NaN</td>\n",
       "    </tr>\n",
       "    <tr>\n",
       "      <th>124</th>\n",
       "      <td>It is to you and I.</td>\n",
       "      <td>NaN</td>\n",
       "    </tr>\n",
       "    <tr>\n",
       "      <th>191</th>\n",
       "      <td>Why should we believe them?</td>\n",
       "      <td>NaN</td>\n",
       "    </tr>\n",
       "  </tbody>\n",
       "</table>\n",
       "<p>233 rows × 2 columns</p>\n",
       "</div>"
      ],
      "text/plain": [
       "                                   Sentences     score\n",
       "32            That was why the tyrants lost.  0.707107\n",
       "64                    The threat now is new.  0.706659\n",
       "190      Who is to decide whom is a suspect?  0.705663\n",
       "195         Who will support their families?  0.705663\n",
       "196  Will their children still go to school?  0.704484\n",
       "..                                       ...       ...\n",
       "98           We are sleep-walking into this.       NaN\n",
       "99                                 Wake up!.       NaN\n",
       "115                     Where will this end.       NaN\n",
       "124                      It is to you and I.       NaN\n",
       "191              Why should we believe them?       NaN\n",
       "\n",
       "[233 rows x 2 columns]"
      ]
     },
     "execution_count": 16,
     "metadata": {},
     "output_type": "execute_result"
    }
   ],
   "source": [
    "# sent_df[sent_df==1] are the cases which are very small sentences , like 1 or 2 words and aren't important without previous or next sentences\n",
    "# so removing them\n",
    "sent_df[sent_df!=1].sort_values('score',ascending=False)"
   ]
  },
  {
   "cell_type": "code",
   "execution_count": 17,
   "metadata": {},
   "outputs": [],
   "source": [
    "sent_max = sent_df[sent_df!=1].sort_values('score',ascending=False).head(int(0.3*len(sent_df)))"
   ]
  },
  {
   "cell_type": "code",
   "execution_count": 18,
   "metadata": {},
   "outputs": [
    {
     "data": {
      "text/html": [
       "<div>\n",
       "<style scoped>\n",
       "    .dataframe tbody tr th:only-of-type {\n",
       "        vertical-align: middle;\n",
       "    }\n",
       "\n",
       "    .dataframe tbody tr th {\n",
       "        vertical-align: top;\n",
       "    }\n",
       "\n",
       "    .dataframe thead th {\n",
       "        text-align: right;\n",
       "    }\n",
       "</style>\n",
       "<table border=\"1\" class=\"dataframe\">\n",
       "  <thead>\n",
       "    <tr style=\"text-align: right;\">\n",
       "      <th></th>\n",
       "      <th>Sentences</th>\n",
       "      <th>score</th>\n",
       "    </tr>\n",
       "  </thead>\n",
       "  <tbody>\n",
       "    <tr>\n",
       "      <th>0</th>\n",
       "      <td>Terror powers expose 'tyranny'.</td>\n",
       "      <td>0.497685</td>\n",
       "    </tr>\n",
       "    <tr>\n",
       "      <th>3</th>\n",
       "      <td>There is a mortal danger aimed at the heart of...</td>\n",
       "      <td>0.445245</td>\n",
       "    </tr>\n",
       "    <tr>\n",
       "      <th>4</th>\n",
       "      <td>Or so says Home Secretary Charles Clarke.</td>\n",
       "      <td>0.446220</td>\n",
       "    </tr>\n",
       "    <tr>\n",
       "      <th>7</th>\n",
       "      <td>It is not that I am cynical or just do not care.</td>\n",
       "      <td>0.573720</td>\n",
       "    </tr>\n",
       "    <tr>\n",
       "      <th>8</th>\n",
       "      <td>I care about this country very much..</td>\n",
       "      <td>0.556704</td>\n",
       "    </tr>\n",
       "    <tr>\n",
       "      <th>...</th>\n",
       "      <td>...</td>\n",
       "      <td>...</td>\n",
       "    </tr>\n",
       "    <tr>\n",
       "      <th>211</th>\n",
       "      <td>I agree with Mr Forsyth.</td>\n",
       "      <td>0.574676</td>\n",
       "    </tr>\n",
       "    <tr>\n",
       "      <th>213</th>\n",
       "      <td>The facts turned out to be very different.</td>\n",
       "      <td>0.576345</td>\n",
       "    </tr>\n",
       "    <tr>\n",
       "      <th>215</th>\n",
       "      <td>We become animals too..</td>\n",
       "      <td>0.662352</td>\n",
       "    </tr>\n",
       "    <tr>\n",
       "      <th>223</th>\n",
       "      <td>They have arrived at their own interpretations...</td>\n",
       "      <td>0.447031</td>\n",
       "    </tr>\n",
       "    <tr>\n",
       "      <th>224</th>\n",
       "      <td>On top of that, they claim to be following Isl...</td>\n",
       "      <td>0.445973</td>\n",
       "    </tr>\n",
       "  </tbody>\n",
       "</table>\n",
       "<p>69 rows × 2 columns</p>\n",
       "</div>"
      ],
      "text/plain": [
       "                                             Sentences     score\n",
       "0                      Terror powers expose 'tyranny'.  0.497685\n",
       "3    There is a mortal danger aimed at the heart of...  0.445245\n",
       "4            Or so says Home Secretary Charles Clarke.  0.446220\n",
       "7     It is not that I am cynical or just do not care.  0.573720\n",
       "8                I care about this country very much..  0.556704\n",
       "..                                                 ...       ...\n",
       "211                           I agree with Mr Forsyth.  0.574676\n",
       "213         The facts turned out to be very different.  0.576345\n",
       "215                            We become animals too..  0.662352\n",
       "223  They have arrived at their own interpretations...  0.447031\n",
       "224  On top of that, they claim to be following Isl...  0.445973\n",
       "\n",
       "[69 rows x 2 columns]"
      ]
     },
     "execution_count": 18,
     "metadata": {},
     "output_type": "execute_result"
    }
   ],
   "source": [
    "sent_max.sort_index()"
   ]
  },
  {
   "cell_type": "code",
   "execution_count": 19,
   "metadata": {},
   "outputs": [],
   "source": [
    "text_summarized = '\\n'.join(sent_max.sort_index().Sentences.to_list())"
   ]
  },
  {
   "cell_type": "code",
   "execution_count": 20,
   "metadata": {},
   "outputs": [
    {
     "data": {
      "text/plain": [
       "'Terror powers expose \\'tyranny\\'.\\nThere is a mortal danger aimed at the heart of Britain.\\nOr so says Home Secretary Charles Clarke.\\nIt is not that I am cynical or just do not care.\\nI care about this country very much..\\nMy point is, the British have always coped without becoming a dictatorship.\\nI was born on 25 August, 1938.\\nA week after my first birthday, the threat had become reality.\\nMy father wore a uniform for five years.\\nAfter 1945 we yearned for peace at last.\\nBehind the Iron Curtain, another genocidal psychopath, another threat.\\nWe built shelters that would have sheltered nothing.\\nWe spent our treasure on weapons instead of hospitals.\\nWe took silly precautions.\\nSome fought it; some marched futilely against it.\\nBy the early seventies it was terrorism as well.\\nThat was why the tyrants lost.\\nCivil rights were infringed as little as humanly possible.\\nNow the threat is Islamic fundamentalism.\\nIt is based and funded abroad; so was the IRA.\\nIt is extremely hard to penetrate with our agents; so was the IRA.\\nTo be protected from terror the government says, we must become a tyranny.\\nBut a tyranny is based on the citizen\\'s terror.\\nI agree with Frederick Forsyth.\\nWhat we really need is more honesty from our security services and our politicians.\\nRemember there were no WMD in Iraq.\\nThe threat now is new.\\nYou cannot compare the threats of past years with now.\\nWhilst life wasn\\'t perfect, we could make better for ourselves.\\nNow we are riddled with red tape and be told what we can or cannot do.\\nWe have to be politically-correct and we are not allowed to have beliefs or opinions.\\nThe terrorists have already won..\\nI absolutely agree with Frederick Forsyth.\\nYes we have to defend ourselves against terrorism but existing laws seem to be more than adequate.\\nThe evidence of any real terrorist capability in the UK is scant.\\nI agree wholeheartedly with Mr Forsyth.\\nThe government is seeking to introduce a police state.\\nWe won\\'t have much of a society left to debate !.\\nHe\\'s correct in most of what he says.\\nHe also forgets basic Human Rights were suspended then as now.\\nFor very little return and maximum alienation.\\nThe nature of the current threat is new.\\nThe terrorist aim to kill indiscriminately.\\nThe best comparison is therefore the blitz, 1941.\\nWe must not forget we are at war..\\nI agree wholeheartedly with Mr Forsyth.\\nIt should be of great concern to everyone..\\nI am against a police state and would not like to think that I lived in one.\\nI am reminded of a quote attributed to Thomas Jefferson.\\n\"A nation that limits freedom in the name of security will have neither.\".\\nI agree absolutely.\\nI do not usually agree with Mr. Forsyth, but he is spot on here.\\nI do not believe the government\\'s plans are justified.\\nLike New Labour, he called himself a libertarian.\\nHobbes has been roundly condemned by posterity, and rightly so.\\nI agree with Mr Forsyth\\'s views.\\nWho is to decide whom is a suspect?\\nWhat is to stop false denunciations?\\nWhat of those falsely accused who will lose their careers?\\nWho will support their families?\\nWill their children still go to school?\\nBut history has shown that if you have laws like that, they always get abused by those in power.\\nAfter all, today you may be scared of the same people as those in power but someday those in power may be scared of you!\\nAnd that day, you\\'ll be the one imprisoned without the chance of justice.\\nI agree with Mr Forsyth.\\nThe facts turned out to be very different.\\nWe become animals too..\\nThey have arrived at their own interpretations and assumptions with regards their actions.\\nOn top of that, they claim to be following Islam in its true form!.'"
      ]
     },
     "execution_count": 20,
     "metadata": {},
     "output_type": "execute_result"
    }
   ],
   "source": [
    "text_summarized"
   ]
  },
  {
   "cell_type": "code",
   "execution_count": 21,
   "metadata": {},
   "outputs": [],
   "source": [
    "# creating a article summarizer function\n",
    "\n",
    "def summarize_aricle(text):\n",
    "    text = re.sub(r'\\n+','. ',text)\n",
    "    sents = nltk.sent_tokenize(text)\n",
    "    sent_df = pd.DataFrame({'Sentences':sents})\n",
    "    feature = tfidf.fit_transform(sent_df.Sentences)\n",
    "    feature_matrix = feature.todense()\n",
    "    sent_df['score'] = np.true_divide(feature_matrix.sum(1),(feature_matrix!=0).sum(1)).tolist()\n",
    "    sent_df.score = sent_df.score.apply(lambda x:x[0])\n",
    "    sent_df[sent_df!=1].sort_values('score',ascending=False)\n",
    "    sent_max = sent_df[sent_df!=1].sort_values('score',ascending=False).head(int(0.3*len(sent_df)))\n",
    "    sent_max.sort_index()\n",
    "    text_summarized = '\\n'.join(sent_max.sort_index().Sentences.to_list())\n",
    "    return text_summarized"
   ]
  },
  {
   "attachments": {},
   "cell_type": "markdown",
   "metadata": {},
   "source": [
    "### `Using the function`"
   ]
  },
  {
   "cell_type": "code",
   "execution_count": 22,
   "metadata": {},
   "outputs": [
    {
     "name": "stdout",
     "output_type": "stream",
     "text": [
      "Ad sales boost Time Warner profit\n",
      "\n",
      "Quarterly profits at US media giant TimeWarner jumped 76% to $1.13bn (£600m) for the three months to December, from $639m year-earlier.\n",
      "\n",
      "The firm, which is now one of the biggest investors in Google, benefited from sales of high-speed internet connections and higher advert sales. TimeWarner said fourth quarter sales rose 2% to $11.1bn from $10.9bn. Its profits were buoyed by one-off gains which offset a profit dip at Warner Bros, and less users for AOL.\n",
      "\n",
      "Time Warner said on Friday that it now owns 8% of search-engine Google. But its own internet business, AOL, had has mixed fortunes. It lost 464,000 subscribers in the fourth quarter profits were lower than in the preceding three quarters. However, the company said AOL's underlying profit before exceptional items rose 8% on the back of stronger internet advertising revenues. It hopes to increase subscribers by offering the online service free to TimeWarner internet customers and will try to sign up AOL's existing customers for high-speed broadband. TimeWarner also has to restate 2000 and 2003 results following a probe by the US Securities Exchange Commission (SEC), which is close to concluding.\n",
      "\n",
      "Time Warner's fourth quarter profits were slightly better than analysts' expectations. But its film division saw profits slump 27% to $284m, helped by box-office flops Alexander and Catwoman, a sharp contrast to year-earlier, when the third and final film in the Lord of the Rings trilogy boosted results. For the full-year, TimeWarner posted a profit of $3.36bn, up 27% from its 2003 performance, while revenues grew 6.4% to $42.09bn. \"Our financial performance was strong, meeting or exceeding all of our full-year objectives and greatly enhancing our flexibility,\" chairman and chief executive Richard Parsons said. For 2005, TimeWarner is projecting operating earnings growth of around 5%, and also expects higher revenue and wider profit margins.\n",
      "\n",
      "TimeWarner is to restate its accounts as part of efforts to resolve an inquiry into AOL by US market regulators. It has already offered to pay $300m to settle charges, in a deal that is under review by the SEC. The company said it was unable to estimate the amount it needed to set aside for legal reserves, which it previously set at $500m. It intends to adjust the way it accounts for a deal with German music publisher Bertelsmann's purchase of a stake in AOL Europe, which it had reported as advertising revenue. It will now book the sale of its stake in AOL Europe as a loss on the value of that stake.\n"
     ]
    }
   ],
   "source": [
    "print(df.loc[0, 'text'])"
   ]
  },
  {
   "cell_type": "code",
   "execution_count": 23,
   "metadata": {},
   "outputs": [
    {
     "name": "stdout",
     "output_type": "stream",
     "text": [
      "Ad sales boost Time Warner profit.\n",
      "But its own internet business, AOL, had has mixed fortunes.\n",
      "It lost 464,000 subscribers in the fourth quarter profits were lower than in the preceding three quarters.\n",
      "It has already offered to pay $300m to settle charges, in a deal that is under review by the SEC.\n",
      "It will now book the sale of its stake in AOL Europe as a loss on the value of that stake.\n"
     ]
    }
   ],
   "source": [
    "summarized = summarize_aricle(df.loc[0, 'text'])\n",
    "print(summarized)"
   ]
  },
  {
   "cell_type": "code",
   "execution_count": 24,
   "metadata": {},
   "outputs": [],
   "source": [
    "article=\"\"\"\n",
    "Satya Narayana Nadella (Telugu: నాదెళ్ల సత్యనారాయణ, /nəˈdɛlə/; born 19 August 1967) is an Indian-American business executive.He is the executive chairman and CEO of Microsoft, succeeding Steve Ballmer in 2014 as CEO and John W. Thompson in 2021 as chairman. Before becoming CEO, he was the executive vice president of Microsoft's cloud and enterprise group, responsible for building and running the company's computing platforms.\n",
    "Nadella was born in Hyderabad in Andhra Pradesh state, India into a Telugu-speaking Hindu family. His mother Prabhavati was a Sanskrit lecturer and his father, Bukkapuram Nadella Yugandhar, was an Indian Administrative Service officer of the 1962 batch. Yugandhar hailed from Bukkapuram in Anantapur district of Andhra Pradesh. Yugandhar's father migrated from Nadella village in Guntur district of Andhra Pradesh to Bukkapuram.\n",
    "Satya Nadella attended the Hyderabad Public School, Begumpet before receiving a bachelor's in electrical engineering from the Manipal Institute of Technology in Karnataka in 1988. Nadella then traveled to the U.S. to study for an MS in computer science at the University of Wisconsin–Milwaukee, receiving his degree in 1990. Later, he received an MBA from the University of Chicago Booth School of Business in 1997.\n",
    "Nadella worked at Sun Microsystems as a member of its technology staff before joining Microsoft in 1992.\n",
    "At Microsoft, Nadella has led major projects that included the company's move to cloud computing and the development of one of the largest cloud infrastructures in the world.\n",
    "Nadella worked as the senior vice-president of research and development (R&D) for the Online Services Division and vice-president of the Microsoft Business Division. Later, he was made the president of Microsoft's $19 billion Server and Tools Business and led a transformation of the company's business and technology culture from client services to cloud infrastructure and services. He has been credited for helping bring Microsoft's database, Windows Server and developer tools to its Azure cloud. The revenue from Cloud Services grew to $20.3 billion in June 2013 from $16.6 billion when he took over in 2011. He received $84.5 million in 2016 pay.\n",
    "\n",
    "In 2013, Nadella's base salary was reportedly $669,167. Including stock bonuses, the total compensation stood at around $7.6 million.\n",
    "\n",
    "Previous positions held by Nadella include:President of the Server & Tools Division (9 February 2011 – February 2014),Senior Vice-president of Research and Development for the Online Services Division (March 2007 – February 2011),Vice-president of the Business Division,Corporate Vice-president of Business Solutions and Search & Advertising Platform Group,Executive Vice-president of Cloud and Enterprise group\n",
    "\n",
    "\n",
    "On 4 February 2014, Nadella was announced as the new CEO of Microsoft, the third CEO in the company's history, following Bill Gates and Steve Ballmer.\n",
    "\n",
    "In October 2014, Nadella attended an event on Women in Computing and courted controversy after he made a statement that women should not ask for a raise and should trust the system. Nadella was criticised for the statement and he later apologized on Twitter. He then sent an email to Microsoft employees admitting he was \"Completely wrong.\"\n",
    "Nadella leads a live discussion on Microsoft's cloud strategy in 2014 in San Francisco.\n",
    "\n",
    "Nadella's tenure at Microsoft has emphasized working with companies and technologies with which Microsoft also competes, including Apple Inc., Salesforce, IBM, and Dropbox. In contrast to previous Microsoft campaigns against the Linux operating system, Nadella proclaimed that \"Microsoft ❤️ Linux\", and Microsoft joined the Linux Foundation as a Platinum member in 2016.\n",
    "\n",
    "Under Nadella, Microsoft revised its mission statement to \"empower every person and every organization on the planet to achieve more\". He orchestrated a cultural shift at Microsoft by emphasizing empathy, collaboration, and 'growth mindset'. He has transformed Microsoft's corporate culture into one that emphasizes continual learning and growth.\n",
    "\n",
    "In 2014, Nadella's first acquisition with Microsoft was of Mojang, a Swedish game company best known for the computer game Minecraft, for $2.5 billion. He followed that by purchasing Xamarin for an undisclosed amount. He oversaw the purchase of professional network LinkedIn in 2016 for $26.2 billion. On October 26, 2018, Microsoft acquired GitHub for US$7.5 billion.\n",
    "\n",
    "Since Nadella became CEO, Microsoft stock had tripled by September 2018, with a 27% annual growth rate.\n",
    "\n",
    "In 2018, he was a Time 100 honoree.\n",
    "\n",
    "In 2019, Nadella was named Financial Times Person of the Year and Fortune magazine Businessperson of the Year.\n",
    "\n",
    "In 2020, Nadella was recognized as Global Indian Business Icon at CNBC-TV18's India Business Leader Awards in Mumbai.\n",
    "\n",
    "In 2022, Nadella was awarded Padma Bhushan, the third highest civilian award in India by the Government of India.\n",
    "\n",
    "In 1992, Nadella married Anupama, the daughter of his father's IAS batchmate. She was his junior at Manipal pursuing a B.Arch in the Faculty of Architecture. The couple had three children, a son and two daughters, and live in Clyde Hill and Bellevue, Washington. His son Zain was a legally blind quadriplegic with cerebral palsy. Zain died in February 2022, at the age of 26.\n",
    "\n",
    "Nadella is an avid reader of American and Indian poetry. He also nurses a passion for cricket, having played on his school team. Nadella and his wife Anupama are part of the ownership group of Seattle Sounders FC, a Major League Soccer club.\n",
    "\n",
    "Nadella has authored a book titled Hit Refresh that explores his life, his career in Microsoft and how he believes technology will shape the future. He announced that the profits from the book would go to Microsoft Philanthropies and through that to nonprofit organizations. \"\"\""
   ]
  },
  {
   "cell_type": "code",
   "execution_count": 25,
   "metadata": {},
   "outputs": [
    {
     "name": "stdout",
     "output_type": "stream",
     "text": [
      "Yugandhar hailed from Bukkapuram in Anantapur district of Andhra Pradesh.\n",
      "He received $84.5 million in 2016 pay..\n",
      "In 2013, Nadella's base salary was reportedly $669,167.\n",
      "Nadella was criticised for the statement and he later apologized on Twitter.\n",
      "He then sent an email to Microsoft employees admitting he was \"Completely wrong.\".\n",
      "He followed that by purchasing Xamarin for an undisclosed amount.\n",
      "He oversaw the purchase of professional network LinkedIn in 2016 for $26.2 billion.\n",
      "In 2018, he was a Time 100 honoree..\n",
      "She was his junior at Manipal pursuing a B.Arch in the Faculty of Architecture.\n",
      "His son Zain was a legally blind quadriplegic with cerebral palsy.\n",
      "He also nurses a passion for cricket, having played on his school team.\n",
      "He announced that the profits from the book would go to Microsoft Philanthropies and through that to nonprofit organizations.\n"
     ]
    }
   ],
   "source": [
    "summarized = summarize_aricle(article)\n",
    "print(summarized)"
   ]
  }
 ],
 "metadata": {
  "kernelspec": {
   "display_name": ".dev_env",
   "language": "python",
   "name": "python3"
  },
  "language_info": {
   "codemirror_mode": {
    "name": "ipython",
    "version": 3
   },
   "file_extension": ".py",
   "mimetype": "text/x-python",
   "name": "python",
   "nbconvert_exporter": "python",
   "pygments_lexer": "ipython3",
   "version": "3.10.12"
  },
  "orig_nbformat": 4
 },
 "nbformat": 4,
 "nbformat_minor": 2
}
